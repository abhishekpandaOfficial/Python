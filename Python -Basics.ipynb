{
 "cells": [
  {
   "cell_type": "code",
   "execution_count": 31,
   "id": "ed05838e",
   "metadata": {},
   "outputs": [
    {
     "name": "stdout",
     "output_type": "stream",
     "text": [
      "Please Enter your NameAbhishek\n",
      "Abhishek\n"
     ]
    }
   ],
   "source": [
    "str =input(\"Please Enter your Name\")\n",
    "print(str)\n"
   ]
  },
  {
   "cell_type": "code",
   "execution_count": 32,
   "id": "47ce8554",
   "metadata": {},
   "outputs": [
    {
     "name": "stdout",
     "output_type": "stream",
     "text": [
      "Name of the file +  abc.txt\n"
     ]
    }
   ],
   "source": [
    "fo = open(\"abc.txt\",\"wb\")\n",
    "print(\"Name of the file + \", fo.name)"
   ]
  },
  {
   "cell_type": "code",
   "execution_count": 33,
   "id": "710a5ef0",
   "metadata": {},
   "outputs": [],
   "source": [
    "import os\n",
    "os.mkdir(\"test\")"
   ]
  },
  {
   "cell_type": "code",
   "execution_count": 53,
   "id": "b0b95ea5",
   "metadata": {},
   "outputs": [
    {
     "data": {
      "text/plain": [
       "'D:\\\\'"
      ]
     },
     "execution_count": 53,
     "metadata": {},
     "output_type": "execute_result"
    }
   ],
   "source": [
    "os.getcwd()"
   ]
  },
  {
   "cell_type": "code",
   "execution_count": 54,
   "id": "d8e7650e",
   "metadata": {},
   "outputs": [],
   "source": [
    "os.chdir(\"D:\\\\\")"
   ]
  },
  {
   "cell_type": "code",
   "execution_count": null,
   "id": "5e4892f9",
   "metadata": {},
   "outputs": [],
   "source": [
    "fo = open(\"abc.txt\",\"wb\")\n",
    "print(\"Name of the file + \", fo.name)"
   ]
  },
  {
   "cell_type": "markdown",
   "id": "3fd30681",
   "metadata": {},
   "source": [
    "### Class & objects\n"
   ]
  },
  {
   "cell_type": "code",
   "execution_count": null,
   "id": "75e5f964",
   "metadata": {},
   "outputs": [],
   "source": [
    "class Employee:\n",
    "    \n",
    "    empcount =0\n",
    "    \n",
    "    def __init__(self,name, sal):\n",
    "        self.name = name\n",
    "        self.sal = sal\n",
    "        Employee.empcount +=1\n",
    "        \n",
    "    def displayCount(self):\n",
    "        print(\"Total Employee %d\" %Employee.empcount)\n",
    "        \n",
    "    def displayEmployee(self):\n",
    "        print(\"Name: \" , self.name, \"Salary: \", self.sal)\n",
    "        \n",
    "        \n",
    "emp1 = Employee(\"Abhishek\",10000)\n",
    "emp2 = Employee(\"Lipi\",  500000)\n",
    "\n",
    "emp1.displayEmployee()\n",
    "emp2.displayEmployee()\n",
    "print(\"TotalEmployee is :%d\" % Employee.empcount)\n",
    "\n",
    "print(\"=================================\")\n",
    "\n",
    "print (\"Employee.__doc__:\", Employee.__doc__)\n",
    "print (\"Employee.__name__:\", Employee.__name__)\n",
    "print (\"Employee.__module__:\", Employee.__module__)\n",
    "print (\"Employee.__bases__:\", Employee.__bases__)\n",
    "print (\"Employee.__dict__:\", Employee.__dict__)"
   ]
  },
  {
   "cell_type": "markdown",
   "id": "74f24675",
   "metadata": {},
   "source": [
    "## Inheritance "
   ]
  },
  {
   "cell_type": "code",
   "execution_count": null,
   "id": "83873a73",
   "metadata": {},
   "outputs": [],
   "source": [
    "class Parent:\n",
    "    parentAttr = 100\n",
    "    def __init__(self):\n",
    "        print(\"Calling Parent Class Constructor\")\n",
    "    def parentMethod(self):\n",
    "        print(\"Parent Method - Calling\")\n",
    "class Child(Parent):\n",
    "    def __init__(self):\n",
    "        print(\"Child Class Constructor Calling\")\n",
    "    def childMethod(self):\n",
    "        print(\"Child Class Method- Calling\")\n",
    "\n",
    "p = Parent()\n",
    "p.parentMethod()\n",
    "\n",
    "c = Child()\n",
    "c.parentMethod()\n",
    "c.childMethod()\n",
    "\n"
   ]
  },
  {
   "cell_type": "code",
   "execution_count": null,
   "id": "54271c3a",
   "metadata": {
    "scrolled": true
   },
   "outputs": [],
   "source": [
    "from smtplib import SMTPException\n",
    "\n",
    "sender = 'Official.abhishekpanda@gmail.com'\n",
    "receivers = 'abhishekpanda8018@gmail.com'\n",
    "\n",
    "message = \"\"\"From: From Person <Official.abhishekpanda@gmail.com>\n",
    "To: To Person <to@todomain.com>\n",
    "Subject: SMTP e-mail test\n",
    "\n",
    "This is a test e-mail message.\n",
    "\"\"\"\n",
    "\n",
    "try:\n",
    "   smtpObj = smtplib.SMTP('localhost')\n",
    "   smtpObj.sendmail(sender, receivers, message)         \n",
    "   print (\"Successfully sent email\")\n",
    "except SMTPException:\n",
    "   print (\"Error: unable to send email\")"
   ]
  },
  {
   "cell_type": "markdown",
   "id": "d00cfb0d",
   "metadata": {},
   "source": [
    "## Loop"
   ]
  },
  {
   "cell_type": "code",
   "execution_count": 36,
   "id": "738ca9ab",
   "metadata": {},
   "outputs": [
    {
     "name": "stdout",
     "output_type": "stream",
     "text": [
      "Current fruit : banana\n",
      "Current fruit : apple\n",
      "Current fruit : mango\n"
     ]
    }
   ],
   "source": [
    "fruits = ['banana', 'apple',  'mango']\n",
    "for fruit in fruits:       \n",
    "   print ('Current fruit :', fruit)"
   ]
  },
  {
   "cell_type": "code",
   "execution_count": 42,
   "id": "9cd03d19",
   "metadata": {},
   "outputs": [
    {
     "name": "stdout",
     "output_type": "stream",
     "text": [
      "3 is a Prime Number\n",
      "5 is a Prime Number\n",
      "7 is a Prime Number\n",
      "9 is a Prime Number\n",
      "11 is a Prime Number\n",
      "13 is a Prime Number\n",
      "15 is a Prime Number\n",
      "17 is a Prime Number\n",
      "19 is a Prime Number\n"
     ]
    }
   ],
   "source": [
    "for num in range(1,20):\n",
    "       for i in range(1,num):\n",
    "            if(num %2==0):\n",
    "                j=num/i\n",
    "                #print ('%d equals %d * %d' % (num,i,j))\n",
    "                break\n",
    "            else:\n",
    "                print(num, \"is a Prime Number\")\n",
    "                break\n",
    " "
   ]
  },
  {
   "cell_type": "code",
   "execution_count": 44,
   "id": "f622a819",
   "metadata": {},
   "outputs": [
    {
     "name": "stdout",
     "output_type": "stream",
     "text": [
      "The count is: 0\n",
      "The count is: 1\n",
      "The count is: 2\n",
      "The count is: 3\n",
      "The count is: 4\n",
      "The count is: 5\n",
      "The count is: 6\n",
      "The count is: 7\n",
      "The count is: 8\n",
      "Good bye!\n"
     ]
    }
   ],
   "source": [
    "count = 0\n",
    "while (count < 9):\n",
    "   print ('The count is:', count)\n",
    "   count = count + 1\n",
    "\n",
    "print (\"Good bye!\")"
   ]
  },
  {
   "cell_type": "code",
   "execution_count": null,
   "id": "992f7910",
   "metadata": {},
   "outputs": [],
   "source": []
  }
 ],
 "metadata": {
  "kernelspec": {
   "display_name": "Python 3 (ipykernel)",
   "language": "python",
   "name": "python3"
  },
  "language_info": {
   "codemirror_mode": {
    "name": "ipython",
    "version": 3
   },
   "file_extension": ".py",
   "mimetype": "text/x-python",
   "name": "python",
   "nbconvert_exporter": "python",
   "pygments_lexer": "ipython3",
   "version": "3.9.12"
  }
 },
 "nbformat": 4,
 "nbformat_minor": 5
}
